{
 "cells": [
  {
   "cell_type": "markdown",
   "metadata": {},
   "source": [
    "# Lasso using coordient descent with subgradient "
   ]
  },
  {
   "cell_type": "code",
   "execution_count": 2,
   "metadata": {},
   "outputs": [],
   "source": [
    "import numpy as np\n",
    "\n",
    "class LassoRegression:\n",
    "    def __init__(self, alpha=1.0, max_iter=50, tol=1e-6):\n",
    "        \"\"\"\n",
    "        Lasso regression model\n",
    "        :param alpha: regularization strength\n",
    "        :param max_iter: maximum number of iterations\n",
    "        :param tol: tolerance for stopping criteria\n",
    "        \"\"\"\n",
    "        self.alpha = alpha\n",
    "        self.max_iter = max_iter\n",
    "        self.tol = tol\n",
    "        self.coef_ = None\n",
    "        self.intercept_ = None\n",
    "\n",
    "    def sub_gradient(self, z, gamma):\n",
    "        if z > gamma:\n",
    "            return z - gamma\n",
    "        elif z < -gamma:\n",
    "            return z + gamma\n",
    "        else:\n",
    "            return 0\n",
    "\n",
    "    def fit(self, X, y):\n",
    "        \"\"\"\n",
    "        fit function\n",
    "        :param X: input data\n",
    "        :param y: target data\n",
    "        \"\"\"\n",
    "        m, n = X.shape # m: number of samples, n: number of features\n",
    "        self.coef_ = np.zeros(n)\n",
    "        self.intercept_ = np.mean(y)\n",
    "\n",
    "        # centering the data to make the intercept zero\n",
    "        # or use the method metion on the class, add another zero row and column to the matrix?\n",
    "        X = X - np.mean(X, axis=0)\n",
    "        y = y - np.mean(y)\n",
    "\n",
    "        for _ in range(self.max_iter):\n",
    "            coef_old = self.coef_.copy()\n",
    "\n",
    "            for j in range(n):\n",
    "                # partial residual\n",
    "                # 　r_j = y - X\\beta + X_j\\beta_j\n",
    "                residual_j = y - (X @ self.coef_) + X[:, j] * self.coef_[j]\n",
    "\n",
    "                # rho_j = X_j^T r_j\n",
    "                rho_j = X[:, j].T @ residual_j \n",
    "\n",
    "                self.coef_[j] = self.sub_gradient(rho_j, m * self.alpha)/ np.sum(X[:, j] ** 2)\n",
    "\n",
    "            if np.sum(np.abs(self.coef_ - coef_old)) < self.tol:\n",
    "                print(\"Converged at iteration\", _)\n",
    "                break\n",
    "            elif (_ == self.max_iter - 1):\n",
    "                print(\"Not converged\")"
   ]
  },
  {
   "cell_type": "code",
   "execution_count": null,
   "metadata": {},
   "outputs": [
    {
     "name": "stdout",
     "output_type": "stream",
     "text": [
      "Converged at iteration 5\n",
      "Estimated Coefficients: [ 2.51701447 -0.83652063  0.          0.          4.29150316]\n",
      "Intercept: 0.0033044203948668026\n"
     ]
    }
   ],
   "source": [
    "if __name__ == \"__main__\":\n",
    "    \n",
    "    np.random.seed(0)\n",
    "    X = np.random.randn(50, 5) \n",
    "    beta_true = np.array([3, -1.5, 0, 0, 5])  \n",
    "    y = X @ beta_true + np.random.randn(50) * 0.5  \n",
    "\n",
    "\n",
    "    model = LassoRegression(alpha=0.5)\n",
    "    model.fit(X, y)\n",
    "\n",
    "\n",
    "    print(\"Estimated Coefficients:\", model.coef_)\n",
    "    print(\"Intercept:\", model.intercept_) # use mean of y as intercept"
   ]
  },
  {
   "cell_type": "markdown",
   "metadata": {},
   "source": []
  },
  {
   "cell_type": "code",
   "execution_count": null,
   "metadata": {},
   "outputs": [],
   "source": []
  },
  {
   "cell_type": "code",
   "execution_count": null,
   "metadata": {},
   "outputs": [],
   "source": []
  },
  {
   "cell_type": "code",
   "execution_count": null,
   "metadata": {},
   "outputs": [],
   "source": []
  }
 ],
 "metadata": {
  "kernelspec": {
   "display_name": "Research_Field_01",
   "language": "python",
   "name": "python3"
  },
  "language_info": {
   "codemirror_mode": {
    "name": "ipython",
    "version": 3
   },
   "file_extension": ".py",
   "mimetype": "text/x-python",
   "name": "python",
   "nbconvert_exporter": "python",
   "pygments_lexer": "ipython3",
   "version": "3.11.11"
  }
 },
 "nbformat": 4,
 "nbformat_minor": 2
}
